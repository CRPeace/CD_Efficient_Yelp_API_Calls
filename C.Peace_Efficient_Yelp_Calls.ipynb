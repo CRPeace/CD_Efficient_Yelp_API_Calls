{
 "cells": [
  {
   "cell_type": "markdown",
   "id": "030af385",
   "metadata": {},
   "source": [
    "# Efficient Yelp API Calls\n",
    "Cameron Peace"
   ]
  },
  {
   "cell_type": "markdown",
   "id": "73a94550",
   "metadata": {},
   "source": [
    "### Task"
   ]
  },
  {
   "cell_type": "markdown",
   "id": "ea91989f",
   "metadata": {},
   "source": [
    "You will use the Yelp API to search your favorite city for a cuisine type of your choice.\n",
    "\n",
    "Extract all of the results from your search and compile them into one dataframe using a for loop as shown in the lesson \"Code for Efficient API Extraction\"\n",
    "\n",
    "Save your notebook, commit the change to your repository and submit the repository URL for this assignment."
   ]
  },
  {
   "cell_type": "markdown",
   "id": "1debdf18",
   "metadata": {},
   "source": [
    "### Imports"
   ]
  },
  {
   "cell_type": "code",
   "execution_count": 1,
   "id": "a5ccbda1",
   "metadata": {},
   "outputs": [],
   "source": [
    "import pandas as pd\n",
    "import numpy as np\n",
    "import json\n",
    "from yelpapi import YelpAPI\n",
    "import os\n",
    "import math\n",
    "import time\n",
    "from tqdm.notebook import tqdm_notebook"
   ]
  },
  {
   "cell_type": "markdown",
   "id": "237c3cc6",
   "metadata": {},
   "source": [
    "## Setting Up the API"
   ]
  },
  {
   "cell_type": "code",
   "execution_count": 2,
   "id": "8d62b809",
   "metadata": {},
   "outputs": [
    {
     "data": {
      "text/plain": [
       "dict_keys(['client-id', 'api-key'])"
      ]
     },
     "execution_count": 2,
     "metadata": {},
     "output_type": "execute_result"
    }
   ],
   "source": [
    "# loading the api info into a variable\n",
    "with open('/Users/cameron/.secret/yelp_api.json') as f:\n",
    "    api_dict = json.load(f)\n",
    "\n",
    "# confirming\n",
    "api_dict.keys()"
   ]
  },
  {
   "cell_type": "code",
   "execution_count": 3,
   "id": "d479ec88",
   "metadata": {},
   "outputs": [
    {
     "data": {
      "text/plain": [
       "<yelpapi.yelpapi.YelpAPI at 0x112ba1850>"
      ]
     },
     "execution_count": 3,
     "metadata": {},
     "output_type": "execute_result"
    }
   ],
   "source": [
    "# Instantiating an api object\n",
    "yelp_api = YelpAPI(api_dict['api-key'], timeout_s=5)\n",
    "\n",
    "# confirming\n",
    "yelp_api"
   ]
  },
  {
   "cell_type": "markdown",
   "id": "87f7b833",
   "metadata": {},
   "source": [
    "#### API Call Parameters"
   ]
  },
  {
   "cell_type": "code",
   "execution_count": 4,
   "id": "e8fd146f",
   "metadata": {},
   "outputs": [],
   "source": [
    "# terms to use for the api\n",
    "location = 'Seattle, WA'\n",
    "term = 'thai food'"
   ]
  },
  {
   "cell_type": "markdown",
   "id": "efc8c339",
   "metadata": {},
   "source": [
    "#### Creating a File to Store Results"
   ]
  },
  {
   "cell_type": "code",
   "execution_count": 5,
   "id": "206685a9",
   "metadata": {},
   "outputs": [
    {
     "data": {
      "text/plain": [
       "'/Users/cameron/Documents/GitHub/CD_Efficient_Yelp_API_Calls/Data/seattle_thai_results'"
      ]
     },
     "execution_count": 5,
     "metadata": {},
     "output_type": "execute_result"
    }
   ],
   "source": [
    "json_file = '/Users/cameron/Documents/GitHub/CD_Efficient_Yelp_API_Calls/Data/seattle_thai_results'\n",
    "json_file"
   ]
  },
  {
   "cell_type": "code",
   "execution_count": 14,
   "id": "97806670",
   "metadata": {},
   "outputs": [
    {
     "name": "stdout",
     "output_type": "stream",
     "text": [
      "**/Users/cameron/Documents/GitHub/CD_Efficient_Yelp_API_Calls/Data/seattle_thai_results already exists.\n"
     ]
    }
   ],
   "source": [
    "# Check if json_file exists and create if needed\n",
    "\n",
    "if os.path.isfile(json_file) == False:\n",
    "    folder = os.path.dirname(json_file)\n",
    "    if len(folder) > 0:\n",
    "        os.makedirs(folder, exist_ok=True)\n",
    "    print(f'**{json_file} not found. Saving empty list to file.')\n",
    "    with open(json_file, 'w') as f:\n",
    "        json.dump([], f)  \n",
    "else:\n",
    "    print(f\"**{json_file} already exists.\")"
   ]
  },
  {
   "cell_type": "code",
   "execution_count": 15,
   "id": "1fc4ac9f",
   "metadata": {},
   "outputs": [
    {
     "name": "stdout",
     "output_type": "stream",
     "text": [
      "- 0 previous results found.\n"
     ]
    }
   ],
   "source": [
    "# reading the file into a variable and checking the length\n",
    "with open(json_file,'r') as f:\n",
    "    previous_results = json.load(f)\n",
    "    \n",
    "# setting the offset based on the previous results\n",
    "n_results = len(previous_results)\n",
    "print(f'- {n_results} previous results found.')"
   ]
  },
  {
   "cell_type": "markdown",
   "id": "2e8d35ce",
   "metadata": {},
   "source": [
    "### Performing an Initial Query"
   ]
  },
  {
   "cell_type": "code",
   "execution_count": 16,
   "id": "ff3160ed",
   "metadata": {},
   "outputs": [
    {
     "data": {
      "text/plain": [
       "dict_keys(['businesses', 'total', 'region'])"
      ]
     },
     "execution_count": 16,
     "metadata": {},
     "output_type": "execute_result"
    }
   ],
   "source": [
    "# first query\n",
    "results = yelp_api.search_query(location=location,\n",
    "                                term=term,\n",
    "                               offset=n_results)\n",
    "# displaying names of keys\n",
    "results.keys()"
   ]
  },
  {
   "cell_type": "code",
   "execution_count": 18,
   "id": "abc73d8f",
   "metadata": {},
   "outputs": [
    {
     "name": "stdout",
     "output_type": "stream",
     "text": [
      "Total Results for this search query: 933\n",
      "Number of Results per Page: 20\n"
     ]
    }
   ],
   "source": [
    "# checking total results and current number of results obtained\n",
    "total_results = results['total']\n",
    "results_per_page = len(results['businesses'])\n",
    "\n",
    "print(f'Total Results for this search query: {total_results}')\n",
    "print(f'Number of Results per Page: {results_per_page}')"
   ]
  },
  {
   "cell_type": "code",
   "execution_count": null,
   "id": "0bb9c61b",
   "metadata": {},
   "outputs": [],
   "source": []
  }
 ],
 "metadata": {
  "kernelspec": {
   "display_name": "Python (dojo-env)",
   "language": "python",
   "name": "dojo-env"
  },
  "language_info": {
   "codemirror_mode": {
    "name": "ipython",
    "version": 3
   },
   "file_extension": ".py",
   "mimetype": "text/x-python",
   "name": "python",
   "nbconvert_exporter": "python",
   "pygments_lexer": "ipython3",
   "version": "3.9.15"
  },
  "toc": {
   "base_numbering": 1,
   "nav_menu": {},
   "number_sections": false,
   "sideBar": true,
   "skip_h1_title": false,
   "title_cell": "Table of Contents",
   "title_sidebar": "Contents",
   "toc_cell": false,
   "toc_position": {
    "height": "calc(100% - 180px)",
    "left": "10px",
    "top": "150px",
    "width": "165px"
   },
   "toc_section_display": true,
   "toc_window_display": true
  },
  "varInspector": {
   "cols": {
    "lenName": 16,
    "lenType": 16,
    "lenVar": 40
   },
   "kernels_config": {
    "python": {
     "delete_cmd_postfix": "",
     "delete_cmd_prefix": "del ",
     "library": "var_list.py",
     "varRefreshCmd": "print(var_dic_list())"
    },
    "r": {
     "delete_cmd_postfix": ") ",
     "delete_cmd_prefix": "rm(",
     "library": "var_list.r",
     "varRefreshCmd": "cat(var_dic_list()) "
    }
   },
   "types_to_exclude": [
    "module",
    "function",
    "builtin_function_or_method",
    "instance",
    "_Feature"
   ],
   "window_display": false
  }
 },
 "nbformat": 4,
 "nbformat_minor": 5
}
