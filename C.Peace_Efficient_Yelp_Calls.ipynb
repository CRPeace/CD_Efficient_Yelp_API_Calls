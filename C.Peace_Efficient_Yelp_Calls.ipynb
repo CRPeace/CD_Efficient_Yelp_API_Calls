{
 "cells": [
  {
   "cell_type": "markdown",
   "id": "030af385",
   "metadata": {},
   "source": [
    "# Efficient Yelp API Calls\n",
    "Cameron Peace"
   ]
  },
  {
   "cell_type": "markdown",
   "id": "73a94550",
   "metadata": {},
   "source": [
    "### Task"
   ]
  },
  {
   "cell_type": "markdown",
   "id": "ea91989f",
   "metadata": {},
   "source": [
    "You will use the Yelp API to search your favorite city for a cuisine type of your choice.\n",
    "\n",
    "Extract all of the results from your search and compile them into one dataframe using a for loop as shown in the lesson \"Code for Efficient API Extraction\"\n",
    "\n",
    "Save your notebook, commit the change to your repository and submit the repository URL for this assignment."
   ]
  },
  {
   "cell_type": "markdown",
   "id": "1debdf18",
   "metadata": {},
   "source": [
    "### Imports"
   ]
  },
  {
   "cell_type": "code",
   "execution_count": 3,
   "id": "a5ccbda1",
   "metadata": {},
   "outputs": [],
   "source": [
    "import pandas as pd\n",
    "import numpy as np\n",
    "import json\n",
    "from yelpapi import YelpAPI\n",
    "import os\n",
    "import math\n",
    "import time\n",
    "from tqdm.notebook import tqdm_notebook"
   ]
  },
  {
   "cell_type": "markdown",
   "id": "237c3cc6",
   "metadata": {},
   "source": [
    "## Setting Up the API"
   ]
  },
  {
   "cell_type": "code",
   "execution_count": 4,
   "id": "8d62b809",
   "metadata": {},
   "outputs": [
    {
     "data": {
      "text/plain": [
       "dict_keys(['client-id', 'api-key'])"
      ]
     },
     "execution_count": 4,
     "metadata": {},
     "output_type": "execute_result"
    }
   ],
   "source": [
    "# loading the api info into a variable\n",
    "with open('/Users/cameron/.secret/yelp_api.json') as f:\n",
    "    api_dict = json.load(f)\n",
    "\n",
    "# confirming\n",
    "api_dict.keys()"
   ]
  },
  {
   "cell_type": "code",
   "execution_count": 5,
   "id": "d479ec88",
   "metadata": {},
   "outputs": [
    {
     "data": {
      "text/plain": [
       "<yelpapi.yelpapi.YelpAPI at 0x15e9b6bb0>"
      ]
     },
     "execution_count": 5,
     "metadata": {},
     "output_type": "execute_result"
    }
   ],
   "source": [
    "# Instantiating an api object\n",
    "yelp_api = YelpAPI(api_dict['api-key'], timeout_s=5)\n",
    "\n",
    "# confirming\n",
    "yelp_api"
   ]
  },
  {
   "cell_type": "markdown",
   "id": "87f7b833",
   "metadata": {},
   "source": [
    "#### API Call Parameters"
   ]
  },
  {
   "cell_type": "code",
   "execution_count": 6,
   "id": "e8fd146f",
   "metadata": {},
   "outputs": [],
   "source": [
    "# terms to use for the api\n",
    "api_location = 'Seattle, WA'\n",
    "api_term = 'thai food'"
   ]
  },
  {
   "cell_type": "markdown",
   "id": "efc8c339",
   "metadata": {},
   "source": [
    "#### Creating a File to Store Results"
   ]
  },
  {
   "cell_type": "code",
   "execution_count": 7,
   "id": "206685a9",
   "metadata": {},
   "outputs": [
    {
     "data": {
      "text/plain": [
       "'/Users/cameron/Documents/GitHub/CD_Efficient_Yelp_API_Calls/Data/seattle_thai_results'"
      ]
     },
     "execution_count": 7,
     "metadata": {},
     "output_type": "execute_result"
    }
   ],
   "source": [
    "json_file = '/Users/cameron/Documents/GitHub/CD_Efficient_Yelp_API_Calls/Data/seattle_thai_results'\n",
    "json_file"
   ]
  },
  {
   "cell_type": "markdown",
   "id": "2e8d35ce",
   "metadata": {},
   "source": [
    "### Performing an Initial Query"
   ]
  },
  {
   "cell_type": "code",
   "execution_count": 10,
   "id": "ff3160ed",
   "metadata": {},
   "outputs": [
    {
     "data": {
      "text/plain": [
       "dict_keys(['businesses', 'total', 'region'])"
      ]
     },
     "execution_count": 10,
     "metadata": {},
     "output_type": "execute_result"
    }
   ],
   "source": [
    "# first query\n",
    "initial_results = yelp_api.search_query(location=api_location, term=api_term)\n",
    "# displaying names of keys\n",
    "initial_results.keys()"
   ]
  },
  {
   "cell_type": "code",
   "execution_count": 12,
   "id": "abc73d8f",
   "metadata": {},
   "outputs": [
    {
     "name": "stdout",
     "output_type": "stream",
     "text": [
      "Total Results for this search query: 933\n",
      "Number of Results per Page: 20\n"
     ]
    }
   ],
   "source": [
    "# checking total results and current number of results obtained\n",
    "total_initial_results = initial_results['total']\n",
    "initial_results_per_page = len(initial_results['businesses'])\n",
    "\n",
    "print(f'Total Results for this search query: {total_initial_results}')\n",
    "print(f'Number of Results per Page: {initial_results_per_page}')"
   ]
  },
  {
   "cell_type": "markdown",
   "id": "fe0f9311",
   "metadata": {},
   "source": [
    "<mark><u>**Comment:**</u>\n",
    "\n",
    "<font color='dodgerblue' size=4><i>\n",
    "It appears we won't cross the 1,000 results threshold that Yelp allows for free accounts, however, I will still design the functions and loops for the API call based around LP recommendations.\n",
    "</i></font>"
   ]
  },
  {
   "cell_type": "markdown",
   "id": "62922e31",
   "metadata": {},
   "source": [
    "## Creating API Functions and Loops"
   ]
  },
  {
   "cell_type": "markdown",
   "id": "10b66c22",
   "metadata": {},
   "source": [
    "<mark><u>**Comment:**</u>\n",
    "\n",
    "<font color='dodgerblue' size=4><i>\n",
    "This function checks if a JSON file to capture the results of the API call exists.  If not, it creates both the folder and file, adding an empty list to the JSON file. It also has an option for deleting the existing file if desired.\n",
    "</i></font>"
   ]
  },
  {
   "cell_type": "code",
   "execution_count": 13,
   "id": "0bb9c61b",
   "metadata": {},
   "outputs": [],
   "source": [
    "# function used to create a new json and folder, or confirm existing file\n",
    "def create_json_file(_file, delete_if_exists=False): \n",
    "    if os.path.isfile(_file) == True:\n",
    "        if delete_if_exists == True:\n",
    "            print(f\"** {_file} already exists. Deleting previous file...\")\n",
    "            os.remove(_file)\n",
    "            create_json_file(_file, delete_if_exists=False)\n",
    "        else:\n",
    "            print(f\"** {_file} already exists.\")            \n",
    "    else:\n",
    "        print(f\"** {_file} not found. Saving empty list to new file.\")\n",
    "        folder = os.path.dirname(_file)\n",
    "        if len(folder) > 0:\n",
    "            os.makedirs(folder, exist_ok=True)\n",
    "        with open(_file, 'w') as f:\n",
    "            json.dump([], f)  "
   ]
  },
  {
   "cell_type": "code",
   "execution_count": 14,
   "id": "60fb1f85",
   "metadata": {},
   "outputs": [
    {
     "name": "stdout",
     "output_type": "stream",
     "text": [
      "** /Users/cameron/Documents/GitHub/CD_Efficient_Yelp_API_Calls/Data/seattle_thai_results already exists. Deleting previous file...\n",
      "** /Users/cameron/Documents/GitHub/CD_Efficient_Yelp_API_Calls/Data/seattle_thai_results not found. Saving empty list to new file.\n",
      "- 0 previous results found.\n"
     ]
    }
   ],
   "source": [
    "# create a new empty json file (exist the previous if it exists)\n",
    "create_json_file(json_file, delete_if_exists=True)\n",
    "\n",
    "# read the file and save the results to a variable\n",
    "with open(json_file,'r') as f:\n",
    "    previous_results = json.load(f)\n",
    "\n",
    "# get the number of the results in the file and display\n",
    "n_results = len(previous_results)\n",
    "print(f'- {n_results} previous results found.')"
   ]
  },
  {
   "cell_type": "markdown",
   "id": "82d906ca",
   "metadata": {},
   "source": [
    "<mark><u>**Comment:**</u>\n",
    "\n",
    "<font color='dodgerblue' size=4><i>\n",
    "We've used our custom function to check for the file, it found the file we had created in our initial check.  It then deleted the existing file and created a new one, checking for the number of results contained within (so it makes sense for the file to have 0 previous results).\n",
    "</i></font>"
   ]
  },
  {
   "cell_type": "markdown",
   "id": "ac7b4c78",
   "metadata": {},
   "source": [
    "### Using the API"
   ]
  },
  {
   "cell_type": "code",
   "execution_count": 15,
   "id": "eb4142b1",
   "metadata": {},
   "outputs": [
    {
     "data": {
      "text/plain": [
       "47"
      ]
     },
     "execution_count": 15,
     "metadata": {},
     "output_type": "execute_result"
    }
   ],
   "source": [
    "# initial api call to get number of results\n",
    "results = yelp_api.search_query(location=api_location,\n",
    "                                term=api_term,\n",
    "                               offset=n_results)\n",
    "\n",
    "# getting total number of results and number of results per page\n",
    "total_results = results['total']\n",
    "results_per_page = len(results['businesses'])\n",
    "\n",
    "# calculating the number of pages\n",
    "n_pages = math.ceil((results['total'] - n_results)/ results_per_page)\n",
    "n_pages"
   ]
  },
  {
   "cell_type": "markdown",
   "id": "b91088e4",
   "metadata": {},
   "source": [
    "<mark><u>**Comment:**</u>\n",
    "\n",
    "<font color='dodgerblue' size=4><i>\n",
    "We will need 47 pages to capture all 933 results\n",
    "</i></font>"
   ]
  },
  {
   "cell_type": "code",
   "execution_count": 16,
   "id": "9f88ee56",
   "metadata": {},
   "outputs": [
    {
     "data": {
      "application/vnd.jupyter.widget-view+json": {
       "model_id": "702aeed90c86411c898470b3fbc0d3c0",
       "version_major": 2,
       "version_minor": 0
      },
      "text/plain": [
       "  0%|          | 0/47 [00:00<?, ?it/s]"
      ]
     },
     "metadata": {},
     "output_type": "display_data"
    }
   ],
   "source": [
    "# using a loop to fill the JSON file with repeated API calls\n",
    "# using tqdm in order to display a progress bar\n",
    "\n",
    "for i in tqdm_notebook(range(1, n_pages+1)):\n",
    "    with open(json_file, 'r') as f:\n",
    "        previous_results = json.load(f)\n",
    "    n_results = len(previous_results)\n",
    "    \n",
    "    if (n_results + results_per_page) > 1000:\n",
    "        print('Exceeded 1000 api calls. Stopping loop.')\n",
    "        break\n",
    "\n",
    "    results = yelp_api.search_query(location=api_location,\n",
    "                                    term=api_term, \n",
    "                                    offset=n_results)\n",
    "    \n",
    "    previous_results.extend(results['businesses'])\n",
    "    \n",
    "    with open(json_file,'w') as f:\n",
    "        json.dump(previous_results,f)\n",
    "    \n",
    "    time.sleep(.2)"
   ]
  },
  {
   "cell_type": "markdown",
   "id": "e6fb7950",
   "metadata": {},
   "source": [
    "<mark><u>**Comment:**</u>\n",
    "\n",
    "<font color='dodgerblue' size=4><i>\n",
    "Looks like everything worked!  We made 47 API calls and should have received 933 entries for thai food in Seattle, WA from the Yelp database.\n",
    "</i></font>"
   ]
  },
  {
   "cell_type": "markdown",
   "id": "f35d6b72",
   "metadata": {},
   "source": [
    "## Viewing Results of API calls"
   ]
  },
  {
   "cell_type": "code",
   "execution_count": 18,
   "id": "5b42d7b9",
   "metadata": {},
   "outputs": [
    {
     "name": "stdout",
     "output_type": "stream",
     "text": [
      "<class 'pandas.core.frame.DataFrame'>\n",
      "RangeIndex: 933 entries, 0 to 932\n",
      "Data columns (total 16 columns):\n",
      " #   Column         Non-Null Count  Dtype  \n",
      "---  ------         --------------  -----  \n",
      " 0   id             933 non-null    object \n",
      " 1   alias          933 non-null    object \n",
      " 2   name           933 non-null    object \n",
      " 3   image_url      933 non-null    object \n",
      " 4   is_closed      933 non-null    bool   \n",
      " 5   url            933 non-null    object \n",
      " 6   review_count   933 non-null    int64  \n",
      " 7   categories     933 non-null    object \n",
      " 8   rating         933 non-null    float64\n",
      " 9   coordinates    933 non-null    object \n",
      " 10  transactions   933 non-null    object \n",
      " 11  price          811 non-null    object \n",
      " 12  location       933 non-null    object \n",
      " 13  phone          933 non-null    object \n",
      " 14  display_phone  933 non-null    object \n",
      " 15  distance       933 non-null    float64\n",
      "dtypes: bool(1), float64(2), int64(1), object(12)\n",
      "memory usage: 110.4+ KB\n"
     ]
    },
    {
     "data": {
      "text/html": [
       "<div>\n",
       "<style scoped>\n",
       "    .dataframe tbody tr th:only-of-type {\n",
       "        vertical-align: middle;\n",
       "    }\n",
       "\n",
       "    .dataframe tbody tr th {\n",
       "        vertical-align: top;\n",
       "    }\n",
       "\n",
       "    .dataframe thead th {\n",
       "        text-align: right;\n",
       "    }\n",
       "</style>\n",
       "<table border=\"1\" class=\"dataframe\">\n",
       "  <thead>\n",
       "    <tr style=\"text-align: right;\">\n",
       "      <th></th>\n",
       "      <th>id</th>\n",
       "      <th>alias</th>\n",
       "      <th>name</th>\n",
       "      <th>image_url</th>\n",
       "      <th>is_closed</th>\n",
       "      <th>url</th>\n",
       "      <th>review_count</th>\n",
       "      <th>categories</th>\n",
       "      <th>rating</th>\n",
       "      <th>coordinates</th>\n",
       "      <th>transactions</th>\n",
       "      <th>price</th>\n",
       "      <th>location</th>\n",
       "      <th>phone</th>\n",
       "      <th>display_phone</th>\n",
       "      <th>distance</th>\n",
       "    </tr>\n",
       "  </thead>\n",
       "  <tbody>\n",
       "    <tr>\n",
       "      <th>0</th>\n",
       "      <td>Aj1oSIHJwbteXYfYquzUOA</td>\n",
       "      <td>bangrak-market-seattle</td>\n",
       "      <td>Bangrak Market</td>\n",
       "      <td>https://s3-media3.fl.yelpcdn.com/bphoto/E3zqsK...</td>\n",
       "      <td>False</td>\n",
       "      <td>https://www.yelp.com/biz/bangrak-market-seattl...</td>\n",
       "      <td>1090</td>\n",
       "      <td>[{'alias': 'bars', 'title': 'Bars'}, {'alias':...</td>\n",
       "      <td>4.0</td>\n",
       "      <td>{'latitude': 47.614263, 'longitude': -122.346387}</td>\n",
       "      <td>[delivery]</td>\n",
       "      <td>$$</td>\n",
       "      <td>{'address1': '2319 2nd Ave', 'address2': None,...</td>\n",
       "      <td>+12067357352</td>\n",
       "      <td>(206) 735-7352</td>\n",
       "      <td>1227.074663</td>\n",
       "    </tr>\n",
       "    <tr>\n",
       "      <th>1</th>\n",
       "      <td>zS4wWolhzmKtR5rgnpw_3A</td>\n",
       "      <td>fern-thai-capitol-hill-seattle-3</td>\n",
       "      <td>Fern Thai Capitol Hill</td>\n",
       "      <td>https://s3-media4.fl.yelpcdn.com/bphoto/GTDMvM...</td>\n",
       "      <td>False</td>\n",
       "      <td>https://www.yelp.com/biz/fern-thai-capitol-hil...</td>\n",
       "      <td>90</td>\n",
       "      <td>[{'alias': 'thai', 'title': 'Thai'}, {'alias':...</td>\n",
       "      <td>4.5</td>\n",
       "      <td>{'latitude': 47.61313011320635, 'longitude': -...</td>\n",
       "      <td>[]</td>\n",
       "      <td>$$</td>\n",
       "      <td>{'address1': '1400 10th Ave', 'address2': '', ...</td>\n",
       "      <td>+12068586655</td>\n",
       "      <td>(206) 858-6655</td>\n",
       "      <td>817.417092</td>\n",
       "    </tr>\n",
       "    <tr>\n",
       "      <th>2</th>\n",
       "      <td>bBDeZ3QkljIbPPeQ__Xq-w</td>\n",
       "      <td>noi-thai-cuisine-downtown-seattle-seattle</td>\n",
       "      <td>Noi Thai Cuisine - Downtown Seattle</td>\n",
       "      <td>https://s3-media4.fl.yelpcdn.com/bphoto/b9bGi5...</td>\n",
       "      <td>False</td>\n",
       "      <td>https://www.yelp.com/biz/noi-thai-cuisine-down...</td>\n",
       "      <td>1117</td>\n",
       "      <td>[{'alias': 'thai', 'title': 'Thai'}, {'alias':...</td>\n",
       "      <td>4.0</td>\n",
       "      <td>{'latitude': 47.606947561992335, 'longitude': ...</td>\n",
       "      <td>[delivery, pickup]</td>\n",
       "      <td>$$</td>\n",
       "      <td>{'address1': '1303 1st Ave', 'address2': '', '...</td>\n",
       "      <td>+12067878444</td>\n",
       "      <td>(206) 787-8444</td>\n",
       "      <td>1038.614352</td>\n",
       "    </tr>\n",
       "    <tr>\n",
       "      <th>3</th>\n",
       "      <td>Ic8vm_azp9sKVBp9BRBufg</td>\n",
       "      <td>sisi-kay-thai-eatery-and-bar-seattle-5</td>\n",
       "      <td>Sisi Kay Thai Eatery &amp; Bar</td>\n",
       "      <td>https://s3-media2.fl.yelpcdn.com/bphoto/sdQO6D...</td>\n",
       "      <td>False</td>\n",
       "      <td>https://www.yelp.com/biz/sisi-kay-thai-eatery-...</td>\n",
       "      <td>378</td>\n",
       "      <td>[{'alias': 'thai', 'title': 'Thai'}, {'alias':...</td>\n",
       "      <td>4.5</td>\n",
       "      <td>{'latitude': 47.66161, 'longitude': -122.33855}</td>\n",
       "      <td>[pickup, delivery]</td>\n",
       "      <td>$$</td>\n",
       "      <td>{'address1': '1612 N 45th St', 'address2': Non...</td>\n",
       "      <td>+12066594382</td>\n",
       "      <td>(206) 659-4382</td>\n",
       "      <td>5291.861794</td>\n",
       "    </tr>\n",
       "    <tr>\n",
       "      <th>4</th>\n",
       "      <td>h7Dbi62QzPRXtqmlwUFhuA</td>\n",
       "      <td>bai-tong-thai-street-cafe-seattle</td>\n",
       "      <td>Bai Tong Thai Street Cafe</td>\n",
       "      <td>https://s3-media2.fl.yelpcdn.com/bphoto/QuChdb...</td>\n",
       "      <td>False</td>\n",
       "      <td>https://www.yelp.com/biz/bai-tong-thai-street-...</td>\n",
       "      <td>659</td>\n",
       "      <td>[{'alias': 'thai', 'title': 'Thai'}, {'alias':...</td>\n",
       "      <td>4.0</td>\n",
       "      <td>{'latitude': 47.61393, 'longitude': -122.31719}</td>\n",
       "      <td>[delivery, pickup, restaurant_reservation]</td>\n",
       "      <td>$$</td>\n",
       "      <td>{'address1': '1121 E Pike St', 'address2': '',...</td>\n",
       "      <td>+12067878448</td>\n",
       "      <td>(206) 787-8448</td>\n",
       "      <td>963.915492</td>\n",
       "    </tr>\n",
       "  </tbody>\n",
       "</table>\n",
       "</div>"
      ],
      "text/plain": [
       "                       id                                      alias  \\\n",
       "0  Aj1oSIHJwbteXYfYquzUOA                     bangrak-market-seattle   \n",
       "1  zS4wWolhzmKtR5rgnpw_3A           fern-thai-capitol-hill-seattle-3   \n",
       "2  bBDeZ3QkljIbPPeQ__Xq-w  noi-thai-cuisine-downtown-seattle-seattle   \n",
       "3  Ic8vm_azp9sKVBp9BRBufg     sisi-kay-thai-eatery-and-bar-seattle-5   \n",
       "4  h7Dbi62QzPRXtqmlwUFhuA          bai-tong-thai-street-cafe-seattle   \n",
       "\n",
       "                                  name  \\\n",
       "0                       Bangrak Market   \n",
       "1               Fern Thai Capitol Hill   \n",
       "2  Noi Thai Cuisine - Downtown Seattle   \n",
       "3           Sisi Kay Thai Eatery & Bar   \n",
       "4            Bai Tong Thai Street Cafe   \n",
       "\n",
       "                                           image_url  is_closed  \\\n",
       "0  https://s3-media3.fl.yelpcdn.com/bphoto/E3zqsK...      False   \n",
       "1  https://s3-media4.fl.yelpcdn.com/bphoto/GTDMvM...      False   \n",
       "2  https://s3-media4.fl.yelpcdn.com/bphoto/b9bGi5...      False   \n",
       "3  https://s3-media2.fl.yelpcdn.com/bphoto/sdQO6D...      False   \n",
       "4  https://s3-media2.fl.yelpcdn.com/bphoto/QuChdb...      False   \n",
       "\n",
       "                                                 url  review_count  \\\n",
       "0  https://www.yelp.com/biz/bangrak-market-seattl...          1090   \n",
       "1  https://www.yelp.com/biz/fern-thai-capitol-hil...            90   \n",
       "2  https://www.yelp.com/biz/noi-thai-cuisine-down...          1117   \n",
       "3  https://www.yelp.com/biz/sisi-kay-thai-eatery-...           378   \n",
       "4  https://www.yelp.com/biz/bai-tong-thai-street-...           659   \n",
       "\n",
       "                                          categories  rating  \\\n",
       "0  [{'alias': 'bars', 'title': 'Bars'}, {'alias':...     4.0   \n",
       "1  [{'alias': 'thai', 'title': 'Thai'}, {'alias':...     4.5   \n",
       "2  [{'alias': 'thai', 'title': 'Thai'}, {'alias':...     4.0   \n",
       "3  [{'alias': 'thai', 'title': 'Thai'}, {'alias':...     4.5   \n",
       "4  [{'alias': 'thai', 'title': 'Thai'}, {'alias':...     4.0   \n",
       "\n",
       "                                         coordinates  \\\n",
       "0  {'latitude': 47.614263, 'longitude': -122.346387}   \n",
       "1  {'latitude': 47.61313011320635, 'longitude': -...   \n",
       "2  {'latitude': 47.606947561992335, 'longitude': ...   \n",
       "3    {'latitude': 47.66161, 'longitude': -122.33855}   \n",
       "4    {'latitude': 47.61393, 'longitude': -122.31719}   \n",
       "\n",
       "                                 transactions price  \\\n",
       "0                                  [delivery]    $$   \n",
       "1                                          []    $$   \n",
       "2                          [delivery, pickup]    $$   \n",
       "3                          [pickup, delivery]    $$   \n",
       "4  [delivery, pickup, restaurant_reservation]    $$   \n",
       "\n",
       "                                            location         phone  \\\n",
       "0  {'address1': '2319 2nd Ave', 'address2': None,...  +12067357352   \n",
       "1  {'address1': '1400 10th Ave', 'address2': '', ...  +12068586655   \n",
       "2  {'address1': '1303 1st Ave', 'address2': '', '...  +12067878444   \n",
       "3  {'address1': '1612 N 45th St', 'address2': Non...  +12066594382   \n",
       "4  {'address1': '1121 E Pike St', 'address2': '',...  +12067878448   \n",
       "\n",
       "    display_phone     distance  \n",
       "0  (206) 735-7352  1227.074663  \n",
       "1  (206) 858-6655   817.417092  \n",
       "2  (206) 787-8444  1038.614352  \n",
       "3  (206) 659-4382  5291.861794  \n",
       "4  (206) 787-8448   963.915492  "
      ]
     },
     "metadata": {},
     "output_type": "display_data"
    },
    {
     "data": {
      "text/plain": [
       "None"
      ]
     },
     "metadata": {},
     "output_type": "display_data"
    }
   ],
   "source": [
    "final_df = pd.read_json(json_file)\n",
    "display(final_df.head(), final_df.info())"
   ]
  },
  {
   "cell_type": "markdown",
   "id": "ebc38a53",
   "metadata": {},
   "source": [
    "<mark><u>**Comment:**</u>\n",
    "\n",
    "<font color='dodgerblue' size=4><i>\n",
    "Looks good here, cleaning and analysis is beyond the scope of this notebook so we'll leave it at this.\n",
    "</i></font>"
   ]
  }
 ],
 "metadata": {
  "kernelspec": {
   "display_name": "Python (dojo-env)",
   "language": "python",
   "name": "dojo-env"
  },
  "language_info": {
   "codemirror_mode": {
    "name": "ipython",
    "version": 3
   },
   "file_extension": ".py",
   "mimetype": "text/x-python",
   "name": "python",
   "nbconvert_exporter": "python",
   "pygments_lexer": "ipython3",
   "version": "3.9.15"
  },
  "toc": {
   "base_numbering": 1,
   "nav_menu": {},
   "number_sections": false,
   "sideBar": true,
   "skip_h1_title": false,
   "title_cell": "Table of Contents",
   "title_sidebar": "Contents",
   "toc_cell": false,
   "toc_position": {
    "height": "calc(100% - 180px)",
    "left": "10px",
    "top": "150px",
    "width": "278px"
   },
   "toc_section_display": true,
   "toc_window_display": true
  },
  "varInspector": {
   "cols": {
    "lenName": 16,
    "lenType": 16,
    "lenVar": 40
   },
   "kernels_config": {
    "python": {
     "delete_cmd_postfix": "",
     "delete_cmd_prefix": "del ",
     "library": "var_list.py",
     "varRefreshCmd": "print(var_dic_list())"
    },
    "r": {
     "delete_cmd_postfix": ") ",
     "delete_cmd_prefix": "rm(",
     "library": "var_list.r",
     "varRefreshCmd": "cat(var_dic_list()) "
    }
   },
   "types_to_exclude": [
    "module",
    "function",
    "builtin_function_or_method",
    "instance",
    "_Feature"
   ],
   "window_display": false
  }
 },
 "nbformat": 4,
 "nbformat_minor": 5
}
